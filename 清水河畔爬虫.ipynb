{
 "cells": [
  {
   "cell_type": "code",
   "execution_count": 1,
   "metadata": {
    "collapsed": true
   },
   "outputs": [],
   "source": [
    "# -*- coding: utf-8 -*-\n",
    "# author: Yabin Zheng\n",
    "# Email: sczhengyabin@hotmail.com\n",
    "\n",
    "%matplotlib inline\n",
    "\n",
    "import re\n",
    "from bs4 import BeautifulSoup\n",
    "import sys\n",
    "import time\n",
    "import random\n",
    "import json\n",
    "import requests\n",
    "import pandas as pd\n",
    "from concurrent import futures\n",
    "import datetime"
   ]
  },
  {
   "cell_type": "code",
   "execution_count": 2,
   "metadata": {
    "collapsed": true
   },
   "outputs": [],
   "source": [
    "# 是否打印异常信息（调试使用）\n",
    "PRINT = False\n",
    "\n",
    "NUM_THREADS = 10\n",
    "\n",
    "HOMEPAGE_URL = \"http://bbs.uestc.edu.cn/\"\n",
    "\n",
    "LOGIN_PAGE_URL = \"http://bbs.uestc.edu.cn/member.php?mod=logging&action=login&loginsubmit=yes&inajax=1\"\n"
   ]
  },
  {
   "cell_type": "code",
   "execution_count": 3,
   "metadata": {
    "collapsed": true
   },
   "outputs": [],
   "source": [
    "HEADERS = {\"User-Agent\": \"Mozilla/5.0 (Windows NT 10.0; Win64; x64) AppleWebKit/537.36 (KHTML, like Gecko) Chrome/57.0.2987.133 Safari/537.36\"}"
   ]
  },
  {
   "cell_type": "markdown",
   "metadata": {},
   "source": [
    "# 测试爬取论坛首页"
   ]
  },
  {
   "cell_type": "markdown",
   "metadata": {},
   "source": [
    "### 不登录"
   ]
  },
  {
   "cell_type": "code",
   "execution_count": 13,
   "metadata": {
    "collapsed": false
   },
   "outputs": [],
   "source": [
    "r_0 = requests.get(HOMEPAGE_URL, headers=HEADERS)"
   ]
  },
  {
   "cell_type": "code",
   "execution_count": 14,
   "metadata": {
    "collapsed": false
   },
   "outputs": [],
   "source": [
    "bs_obj = BeautifulSoup(r_0.text, \"lxml\")"
   ]
  },
  {
   "cell_type": "code",
   "execution_count": 15,
   "metadata": {
    "collapsed": false
   },
   "outputs": [
    {
     "data": {
      "text/plain": [
       "[<a href=\"http://bbs.uestc.edu.cn\" title=\"清水河畔首页\">清水河畔</a>,\n",
       " <a href=\"http://bbs.uestc.edu.cn/thread-1554255-1.html\">客户端下载</a>,\n",
       " <a href=\"member.php?mod=logging&amp;action=login\">登录</a>,\n",
       " <a href=\"member.php?mod=register\">立即注册</a>,\n",
       " <a class=\"switchblind\" href=\"javascript:;\" id=\"switchblind\" onclick=\"toggleBlind(this)\" title=\"开启辅助访问\">开启辅助访问</a>,\n",
       " <a class=\"switchwidth\" href=\"javascript:;\" id=\"switchwidth\" onclick=\"widthauto(this)\" title=\"切换到窄版\">切换到窄版</a>,\n",
       " <a class=\"xi2\" href=\"javascript:;\" onclick=\"lsSubmit()\"><strong>登录</strong></a>,\n",
       " <a class=\"xi2 xw1\" href=\"member.php?mod=register\">立即注册</a>,\n",
       " <a href=\"javascript:;\" rel=\"user\">用户</a>,\n",
       " <a href=\"javascript:;\" id=\"qmenu\" onmouseover=\"delayShow(this, function () {showMenu({'ctrlid':'qmenu','pos':'34!','ctrlclass':'a','duration':2});showForummenu();})\"></a>]"
      ]
     },
     "execution_count": 15,
     "metadata": {},
     "output_type": "execute_result"
    }
   ],
   "source": [
    "bs_obj.find_all(\"a\")[:10]"
   ]
  },
  {
   "cell_type": "markdown",
   "metadata": {},
   "source": [
    "### 登录"
   ]
  },
  {
   "cell_type": "code",
   "execution_count": 35,
   "metadata": {
    "collapsed": true
   },
   "outputs": [],
   "source": [
    "USERNAME = \"username\"\n",
    "PASSWORD = \"password\""
   ]
  },
  {
   "cell_type": "code",
   "execution_count": 16,
   "metadata": {
    "collapsed": false
   },
   "outputs": [],
   "source": [
    "params = {\"username\": USERNAME, \"password\": PASSWORD, \"cookietime\": 2592000}\n",
    "r_login = requests.post(LOGIN_PAGE_URL, headers=HEADERS, params=params)"
   ]
  },
  {
   "cell_type": "code",
   "execution_count": 17,
   "metadata": {
    "collapsed": false
   },
   "outputs": [
    {
     "data": {
      "text/plain": [
       "{'v3hW_2132_auth': '30991BeffZfTpTkQGwYzE7Oxah720qpz18B6Na3v9c0ikKNWfhgSIQ%2BHrKQqnjHB%2FyrmlIx6hRRLedg%2Bm1yWnpIFxlo',\n",
       " 'v3hW_2132_checkfollow': '1',\n",
       " 'v3hW_2132_lastact': '1492481308%09member.php%09logging',\n",
       " 'v3hW_2132_lastcheckfeed': '152451%7C1492481308',\n",
       " 'v3hW_2132_lastvisit': '1492477708',\n",
       " 'v3hW_2132_lip': '182.150.177.17%2C1492481288',\n",
       " 'v3hW_2132_saltkey': 'wnN3FNJw',\n",
       " 'v3hW_2132_sid': 'DIuEb3',\n",
       " 'v3hW_2132_ulastactivity': 'd7e9dd6My77GQyo5lZEXV6dbfLS%2BRfL0jTW04wlDLgA%2Bg0r0W1ZX'}"
      ]
     },
     "execution_count": 17,
     "metadata": {},
     "output_type": "execute_result"
    }
   ],
   "source": [
    "r_login.cookies.get_dict()"
   ]
  },
  {
   "cell_type": "code",
   "execution_count": 18,
   "metadata": {
    "collapsed": false
   },
   "outputs": [],
   "source": [
    "r_1 = requests.get(HOMEPAGE_URL, headers=HEADERS, cookies=r_login.cookies)"
   ]
  },
  {
   "cell_type": "code",
   "execution_count": 19,
   "metadata": {
    "collapsed": false
   },
   "outputs": [
    {
     "data": {
      "text/plain": [
       "[<a href=\"http://bbs.uestc.edu.cn\" title=\"清水河畔首页\">清水河畔</a>,\n",
       " <a href=\"http://bbs.uestc.edu.cn/forum.php?mod=viewthread&amp;tid=1554255\">客户端下载</a>,\n",
       " <a href=\"http://bbs.uestc.edu.cn/home.php?mod=space&amp;uid=152451\"><img src=\"http://bbs.uestc.edu.cn/uc_server/avatar.php?uid=152451&amp;size=small\"/></a>,\n",
       " <a href=\"http://bbs.uestc.edu.cn/home.php?mod=space&amp;uid=152451\" target=\"_blank\" title=\"访问我的空间\">Tracy_McGrady</a>,\n",
       " <a href=\"http://bbs.uestc.edu.cn/home.php?mod=spacecp\">设置</a>,\n",
       " <a href=\"http://bbs.uestc.edu.cn/home.php?mod=space&amp;do=pm\" id=\"pm_ntc\">消息</a>,\n",
       " <a href=\"http://bbs.uestc.edu.cn/home.php?mod=space&amp;do=notice\" id=\"myprompt\" onmouseover=\"showMenu({'ctrlid':'myprompt'});\">提醒</a>,\n",
       " <a href=\"member.php?mod=logging&amp;action=logout&amp;formhash=c29d3362\">退出</a>,\n",
       " <a href=\"javascript:\" onclick=\"showWindow('pop','plugin.php?id=ahome_dayquestion:pop');document.getElementById('ahome_question_icon').src='source/plugin/ahome_dayquestion/images/ing.gif';\"><img id=\"ahome_question_icon\" src=\"source/plugin/ahome_dayquestion/images/start.gif\" style=\"position:relative;top:5px;height:18px;\"/></a>,\n",
       " <a class=\"switchblind\" href=\"javascript:;\" id=\"switchblind\" onclick=\"toggleBlind(this)\" title=\"开启辅助访问\">开启辅助访问</a>]"
      ]
     },
     "execution_count": 19,
     "metadata": {},
     "output_type": "execute_result"
    }
   ],
   "source": [
    "bs_obj = BeautifulSoup(r_1.text, \"lxml\")\n",
    "bs_obj.find_all(\"a\")[:10]"
   ]
  },
  {
   "cell_type": "markdown",
   "metadata": {},
   "source": [
    "# 封装函数"
   ]
  },
  {
   "cell_type": "code",
   "execution_count": 20,
   "metadata": {
    "collapsed": true
   },
   "outputs": [],
   "source": [
    "def get_bs_obj_from_url(http_url, cookies=\"\"):\n",
    "    global HEADERS\n",
    "    \n",
    "    bs_obj = None\n",
    "    exception_time = 0\n",
    "    while True:\n",
    "        try:\n",
    "            if PRINT:\n",
    "                print(\"Getting {}\".format(http_url))\n",
    "            r = requests.get(http_url, headers=HEADERS, cookies=cookies)\n",
    "            bs_obj = BeautifulSoup(r.text, \"lxml\")\n",
    "            break\n",
    "        except Exception as e:\n",
    "            if PRINT:\n",
    "                print(e)\n",
    "            exception_time += 1\n",
    "            time.sleep(2)\n",
    "            if exception_time > 10:\n",
    "                break\n",
    "    return bs_obj"
   ]
  },
  {
   "cell_type": "code",
   "execution_count": 21,
   "metadata": {
    "collapsed": false
   },
   "outputs": [],
   "source": [
    "bs_obj = get_bs_obj_from_url(HOMEPAGE_URL, cookies=r_login.cookies)"
   ]
  },
  {
   "cell_type": "code",
   "execution_count": 22,
   "metadata": {
    "collapsed": false
   },
   "outputs": [
    {
     "data": {
      "text/plain": [
       "[<a href=\"http://bbs.uestc.edu.cn\" title=\"清水河畔首页\">清水河畔</a>,\n",
       " <a href=\"http://bbs.uestc.edu.cn/forum.php?mod=viewthread&amp;tid=1554255\">客户端下载</a>,\n",
       " <a href=\"http://bbs.uestc.edu.cn/home.php?mod=space&amp;uid=152451\"><img src=\"http://bbs.uestc.edu.cn/uc_server/avatar.php?uid=152451&amp;size=small\"/></a>,\n",
       " <a href=\"http://bbs.uestc.edu.cn/home.php?mod=space&amp;uid=152451\" target=\"_blank\" title=\"访问我的空间\">Tracy_McGrady</a>,\n",
       " <a href=\"http://bbs.uestc.edu.cn/home.php?mod=spacecp\">设置</a>,\n",
       " <a href=\"http://bbs.uestc.edu.cn/home.php?mod=space&amp;do=pm\" id=\"pm_ntc\">消息</a>,\n",
       " <a href=\"http://bbs.uestc.edu.cn/home.php?mod=space&amp;do=notice\" id=\"myprompt\" onmouseover=\"showMenu({'ctrlid':'myprompt'});\">提醒</a>,\n",
       " <a href=\"member.php?mod=logging&amp;action=logout&amp;formhash=c29d3362\">退出</a>,\n",
       " <a href=\"javascript:\" onclick=\"showWindow('pop','plugin.php?id=ahome_dayquestion:pop');document.getElementById('ahome_question_icon').src='source/plugin/ahome_dayquestion/images/ing.gif';\"><img id=\"ahome_question_icon\" src=\"source/plugin/ahome_dayquestion/images/start.gif\" style=\"position:relative;top:5px;height:18px;\"/></a>,\n",
       " <a class=\"switchblind\" href=\"javascript:;\" id=\"switchblind\" onclick=\"toggleBlind(this)\" title=\"开启辅助访问\">开启辅助访问</a>]"
      ]
     },
     "execution_count": 22,
     "metadata": {},
     "output_type": "execute_result"
    }
   ],
   "source": [
    "bs_obj.find_all(\"a\")[:10]"
   ]
  },
  {
   "cell_type": "markdown",
   "metadata": {},
   "source": [
    "# 根据自增UID爬取用户信息"
   ]
  },
  {
   "cell_type": "code",
   "execution_count": 7,
   "metadata": {
    "collapsed": false
   },
   "outputs": [],
   "source": [
    "def get_person_info_from_uid(uid, cookies):\n",
    "    http_url = \"http://bbs.uestc.edu.cn/home.php?mod=space&uid={}&do=profile\".format(uid)\n",
    "    bs_obj = get_bs_obj_from_url(http_url, cookies=cookies)\n",
    "    \n",
    "    if bs_obj.find(\"div\", class_=\"alert_error\") is not None \\\n",
    "        or bs_obj.text.find(\"等待验证会员\") != -1 \\\n",
    "        or bs_obj.text.find(\"在线时间\") == -1:\n",
    "        return None\n",
    "    \n",
    "    df = pd.DataFrame()\n",
    "    \n",
    "    stage = 0\n",
    "    \n",
    "    # 解析网页内容\n",
    "    try:\n",
    "        username = bs_obj.find(\"h2\", class_=\"xs2\").find(\"a\").get_text()\n",
    "        stage = 1\n",
    "\n",
    "        o_stats_infos1 = bs_obj.find(\"ul\", class_=\"cl bbda pbm mbm\").find(\"li\").find_all(\"a\")\n",
    "        num_friends = int(o_stats_infos1[0].get_text().split(\" \")[1])\n",
    "        num_replys = int(o_stats_infos1[3].get_text().split(\" \")[1])\n",
    "        num_threads = int(o_stats_infos1[4].get_text().split(\" \")[1])\n",
    "        stage = 2\n",
    "\n",
    "        o_bbs_infos = bs_obj.find(\"ul\", {\"id\": \"pbbs\"}).find_all(\"li\")\n",
    "        for o_info in o_bbs_infos:\n",
    "            o_info.em.extract()\n",
    "        online_time = int(o_bbs_infos[0].get_text().split(' ')[0])\n",
    "        register_time = o_bbs_infos[1].get_text()\n",
    "        stage = 3\n",
    "\n",
    "        o_stats_infos2 = bs_obj.find(\"div\", {\"id\": \"psts\"}).find(\"ul\", class_=\"pf_l\").find_all(\"li\")\n",
    "        for o_info in o_stats_infos2:\n",
    "            o_info.em.extract()\n",
    "        points = int(o_stats_infos2[1].get_text())\n",
    "        weiwang = int(o_stats_infos2[2].get_text().split(\" \")[0])\n",
    "        water_drops = int(o_stats_infos2[3].get_text().split(\" \")[0])\n",
    "\n",
    "        df = pd.DataFrame(data=[[uid, username, num_friends, num_replys, num_threads,\n",
    "                                 online_time, register_time, points, weiwang, water_drops]],\n",
    "                          columns=['ID', '用户名', '好友数', '回帖数', '主题数', \n",
    "                                  '在线时间', '注册时间', '积分', '威望', '水滴'])\n",
    "    except Exception as e:\n",
    "        print(e, \"| uid = {}, stage = {}\".format(uid, stage))\n",
    "    \n",
    "    return df"
   ]
  },
  {
   "cell_type": "code",
   "execution_count": 8,
   "metadata": {
    "collapsed": true
   },
   "outputs": [],
   "source": [
    "def get_all_person_info(uid_start, uid_end, cookies):\n",
    "    df_all = pd.DataFrame()\n",
    "    \n",
    "    count = 0\n",
    "    with futures.ThreadPoolExecutor(max_workers=NUM_THREADS) as executor:\n",
    "        future_list = []\n",
    "        for uid in range(uid_start, uid_end + 1):\n",
    "            future_list.append(executor.submit(get_person_info_from_uid, uid, cookies))\n",
    "        for future in futures.as_completed(future_list):\n",
    "            if future.exception() is None:\n",
    "                df_one = future.result()\n",
    "                if df_one is not None:\n",
    "                    df_all = df_all.append(df_one)\n",
    "            count += 1\n",
    "            sys.stdout.write(\"\\rProgress: {}/{}\".format(count, uid_end - uid_start + 1))\n",
    "    return df_all"
   ]
  },
  {
   "cell_type": "markdown",
   "metadata": {},
   "source": [
    "### 爬取用户信息"
   ]
  },
  {
   "cell_type": "code",
   "execution_count": null,
   "metadata": {
    "collapsed": false,
    "scrolled": true
   },
   "outputs": [],
   "source": [
    "PART = 4\n",
    "MAX_UID = 203000\n",
    "df_person_info = pd.DataFrame()\n",
    "\n",
    "for i in range(PART):\n",
    "    df_person_info = df_person_info.append(get_all_person_info(int(MAX_UID * i / PART), int(MAX_UID * (i+1) / PART)))\n",
    "    print(\"\\n{} Completed\".format(int(MAX_UID * (i+1) / PART)))"
   ]
  },
  {
   "cell_type": "markdown",
   "metadata": {},
   "source": [
    "### 保存用户信息到文件"
   ]
  },
  {
   "cell_type": "code",
   "execution_count": null,
   "metadata": {
    "collapsed": true
   },
   "outputs": [],
   "source": [
    "writer = pd.ExcelWriter(\"清水河畔.xlsx\")\n",
    "df.to_excel(writer, \"Data\")\n",
    "writer.save()"
   ]
  },
  {
   "cell_type": "markdown",
   "metadata": {},
   "source": [
    "### 从文件读取用户信息"
   ]
  },
  {
   "cell_type": "code",
   "execution_count": 4,
   "metadata": {
    "collapsed": true
   },
   "outputs": [],
   "source": [
    "df_person_info = pd.read_excel(\"./清水河畔.xlsx\", sheetname=\"Data\")"
   ]
  },
  {
   "cell_type": "markdown",
   "metadata": {},
   "source": [
    "# 获取用户的发帖信息"
   ]
  },
  {
   "cell_type": "code",
   "execution_count": 8,
   "metadata": {
    "collapsed": false
   },
   "outputs": [],
   "source": [
    "def get_posts_from_uid_and_page(uid, page_no, cookies):\n",
    "    http_url = \"http://bbs.uestc.edu.cn/home.php?mod=space&uid={}&do=thread&view=me&order=dateline&from=space&page={}\".format(uid, page_no)\n",
    "    bs_obj = get_bs_obj_from_url(http_url, cookies)\n",
    "    \n",
    "    df_posts = pd.DataFrame()\n",
    "    try:\n",
    "        o_posts = bs_obj.find(\"form\", {\"id\": \"delform\"}).find_all(\"tr\")\n",
    "\n",
    "        for o_post in o_posts[1:]:\n",
    "            title = o_post.find(\"th\").find(\"a\").get_text()\n",
    "            tid = int(o_post.find(\"th\").find(\"a\").attrs['href'].split(\"=\")[-1])\n",
    "            o_tds = o_post.find_all(\"td\")\n",
    "            forum = o_tds[1].find('a').get_text()\n",
    "            replys = int(o_tds[2].find('a').get_text())\n",
    "            views = int(o_tds[2].find('em').get_text())\n",
    "\n",
    "            df_post = pd.DataFrame(data=[[uid, title, tid, forum, replys, views]],\n",
    "                                   columns=['UID', '标题', 'TID', '板块', '回复数', '查看数'])\n",
    "            df_posts = df_posts.append(df_post)\n",
    "    except Exception as e:\n",
    "#         print(e, \"| uid={}, page_no={}\".format(uid, page_no))\n",
    "        pass\n",
    "    \n",
    "    return df_posts\n",
    "    "
   ]
  },
  {
   "cell_type": "code",
   "execution_count": 9,
   "metadata": {
    "collapsed": false
   },
   "outputs": [],
   "source": [
    "def get_posts_from_uid(uid, num_posts, cookies):\n",
    "    num_pages = int((num_posts+19) / 20)\n",
    "    \n",
    "    df_uid_all_posts = pd.DataFrame()\n",
    "    \n",
    "    with futures.ThreadPoolExecutor(max_workers=(NUM_THREADS/2)) as executor:\n",
    "        future_list = []\n",
    "        for page_no in range(1, num_pages + 1):\n",
    "            future_list.append(executor.submit(get_posts_from_uid_and_page, uid, page_no, cookies))\n",
    "        for future in futures.as_completed(future_list):\n",
    "            if future.exception() is None:\n",
    "                df_uid_posts_page = future.result()\n",
    "                df_uid_all_posts = df_uid_all_posts.append(df_uid_posts_page)\n",
    "    return df_uid_all_posts"
   ]
  },
  {
   "cell_type": "code",
   "execution_count": 10,
   "metadata": {
    "collapsed": true
   },
   "outputs": [],
   "source": [
    "def get_posts_from_person_infos(df_person_info, cookies):\n",
    "    df_all_posts = pd.DataFrame()\n",
    "    \n",
    "    \n",
    "    with futures.ThreadPoolExecutor(max_workers=NUM_THREADS) as executor:\n",
    "        future_list = []\n",
    "        count = 0\n",
    "        for uid in df_person_info['ID'].values:\n",
    "            future_list.append(executor.submit(get_posts_from_uid, uid, df_person_info[df_person_info['ID']==uid]['主题数'].ix[0], cookies=cookies))\n",
    "            \n",
    "        for future in futures.as_completed(future_list):\n",
    "            if future.exception() is None:\n",
    "                df_uid_posts = future.result()\n",
    "                df_all_posts = df_all_posts.append(df_uid_posts)\n",
    "            else:\n",
    "                print(future.exception())\n",
    "            count += 1\n",
    "            sys.stdout.write(\"\\rProgress: {}/{}\".format(count, len(df_person_info)))\n",
    "    return df_all_posts"
   ]
  },
  {
   "cell_type": "markdown",
   "metadata": {
    "collapsed": false
   },
   "source": [
    "### 爬取发帖信息并保存到文件"
   ]
  },
  {
   "cell_type": "code",
   "execution_count": null,
   "metadata": {
    "collapsed": false,
    "scrolled": true
   },
   "outputs": [],
   "source": [
    "PART = 3\n",
    "writer = pd.ExcelWriter(\"清水河畔_posts.xlsx\")\n",
    "\n",
    "for i in range(PART):\n",
    "    df_all_posts = get_posts_from_person_infos(df_person_info[int(len(df_person_info)*i/PART) : int(len(df_person_info)*(i+1)/PART)],\n",
    "                                               cookies=r_login.cookies)\n",
    "    print(\"\\n{} Completed | {}\".format(int(len(df_person_info)*(i+1) / PART), datetime.datetime.now()))\n",
    "    df_all_posts.to_excel(writer, \"Part{}\".format(i+1))\n",
    "    \n",
    "writer.save()"
   ]
  },
  {
   "cell_type": "markdown",
   "metadata": {},
   "source": [
    "### 从文件读取发帖信息（比较慢）"
   ]
  },
  {
   "cell_type": "code",
   "execution_count": 5,
   "metadata": {
    "collapsed": false
   },
   "outputs": [],
   "source": [
    "PART = 3\n",
    "df_all_posts = pd.DataFrame()\n",
    "for i in range(PART):\n",
    "    df_all_posts = df_all_posts.append(pd.read_excel(\"./清水河畔_posts.xlsx\", sheetname=\"Part{}\".format(i+1)))"
   ]
  },
  {
   "cell_type": "markdown",
   "metadata": {},
   "source": [
    "# 部分数据统计与分析"
   ]
  },
  {
   "cell_type": "code",
   "execution_count": 11,
   "metadata": {
    "collapsed": false
   },
   "outputs": [
    {
     "data": {
      "text/html": [
       "<div>\n",
       "<table border=\"1\" class=\"dataframe\">\n",
       "  <thead>\n",
       "    <tr style=\"text-align: right;\">\n",
       "      <th></th>\n",
       "      <th>UID</th>\n",
       "      <th>标题</th>\n",
       "      <th>TID</th>\n",
       "      <th>板块</th>\n",
       "      <th>回复数</th>\n",
       "      <th>查看数</th>\n",
       "    </tr>\n",
       "  </thead>\n",
       "  <tbody>\n",
       "    <tr>\n",
       "      <th>0</th>\n",
       "      <td>1</td>\n",
       "      <td>清水河畔论坛管理组人事变动公告</td>\n",
       "      <td>679469</td>\n",
       "      <td>站务公告</td>\n",
       "      <td>0</td>\n",
       "      <td>2204</td>\n",
       "    </tr>\n",
       "    <tr>\n",
       "      <th>0</th>\n",
       "      <td>1</td>\n",
       "      <td>对ID：jury的禁言公告。</td>\n",
       "      <td>594087</td>\n",
       "      <td>站务公告</td>\n",
       "      <td>1</td>\n",
       "      <td>1270</td>\n",
       "    </tr>\n",
       "    <tr>\n",
       "      <th>0</th>\n",
       "      <td>1</td>\n",
       "      <td>禁止在清水河畔发布食品广告的通知</td>\n",
       "      <td>588512</td>\n",
       "      <td>站务公告</td>\n",
       "      <td>0</td>\n",
       "      <td>962</td>\n",
       "    </tr>\n",
       "    <tr>\n",
       "      <th>0</th>\n",
       "      <td>1</td>\n",
       "      <td>对ID“33_”的禁言公告</td>\n",
       "      <td>547113</td>\n",
       "      <td>站务公告</td>\n",
       "      <td>0</td>\n",
       "      <td>1034</td>\n",
       "    </tr>\n",
       "    <tr>\n",
       "      <th>0</th>\n",
       "      <td>1</td>\n",
       "      <td>清水河畔人事调整通知</td>\n",
       "      <td>1646531</td>\n",
       "      <td>站务公告</td>\n",
       "      <td>0</td>\n",
       "      <td>707</td>\n",
       "    </tr>\n",
       "  </tbody>\n",
       "</table>\n",
       "</div>"
      ],
      "text/plain": [
       "   UID                标题      TID    板块  回复数   查看数\n",
       "0    1   清水河畔论坛管理组人事变动公告   679469  站务公告    0  2204\n",
       "0    1    对ID：jury的禁言公告。   594087  站务公告    1  1270\n",
       "0    1  禁止在清水河畔发布食品广告的通知   588512  站务公告    0   962\n",
       "0    1     对ID“33_”的禁言公告   547113  站务公告    0  1034\n",
       "0    1        清水河畔人事调整通知  1646531  站务公告    0   707"
      ]
     },
     "execution_count": 11,
     "metadata": {},
     "output_type": "execute_result"
    }
   ],
   "source": [
    "df_all_posts.head()"
   ]
  },
  {
   "cell_type": "code",
   "execution_count": 12,
   "metadata": {
    "collapsed": false
   },
   "outputs": [
    {
     "data": {
      "text/html": [
       "<div>\n",
       "<table border=\"1\" class=\"dataframe\">\n",
       "  <thead>\n",
       "    <tr style=\"text-align: right;\">\n",
       "      <th></th>\n",
       "      <th>ID</th>\n",
       "      <th>用户名</th>\n",
       "      <th>好友数</th>\n",
       "      <th>回帖数</th>\n",
       "      <th>主题数</th>\n",
       "      <th>在线时间</th>\n",
       "      <th>注册时间</th>\n",
       "      <th>积分</th>\n",
       "      <th>威望</th>\n",
       "      <th>水滴</th>\n",
       "    </tr>\n",
       "  </thead>\n",
       "  <tbody>\n",
       "    <tr>\n",
       "      <th>0</th>\n",
       "      <td>1</td>\n",
       "      <td>admin</td>\n",
       "      <td>0</td>\n",
       "      <td>38</td>\n",
       "      <td>23</td>\n",
       "      <td>152</td>\n",
       "      <td>2013-10-23 22:34</td>\n",
       "      <td>158</td>\n",
       "      <td>0</td>\n",
       "      <td>273</td>\n",
       "    </tr>\n",
       "    <tr>\n",
       "      <th>0</th>\n",
       "      <td>3</td>\n",
       "      <td>shiruisbr</td>\n",
       "      <td>0</td>\n",
       "      <td>313</td>\n",
       "      <td>19</td>\n",
       "      <td>102</td>\n",
       "      <td>2014-11-12 15:15</td>\n",
       "      <td>135</td>\n",
       "      <td>0</td>\n",
       "      <td>26</td>\n",
       "    </tr>\n",
       "    <tr>\n",
       "      <th>0</th>\n",
       "      <td>4</td>\n",
       "      <td>dove188</td>\n",
       "      <td>18</td>\n",
       "      <td>3080</td>\n",
       "      <td>1009</td>\n",
       "      <td>611</td>\n",
       "      <td>2007-9-15 21:02</td>\n",
       "      <td>1550</td>\n",
       "      <td>104</td>\n",
       "      <td>853</td>\n",
       "    </tr>\n",
       "    <tr>\n",
       "      <th>0</th>\n",
       "      <td>7</td>\n",
       "      <td>plan</td>\n",
       "      <td>2</td>\n",
       "      <td>1002</td>\n",
       "      <td>94</td>\n",
       "      <td>278</td>\n",
       "      <td>2007-9-17 15:32</td>\n",
       "      <td>733</td>\n",
       "      <td>65</td>\n",
       "      <td>99</td>\n",
       "    </tr>\n",
       "    <tr>\n",
       "      <th>0</th>\n",
       "      <td>8</td>\n",
       "      <td>zhd32</td>\n",
       "      <td>3</td>\n",
       "      <td>1407</td>\n",
       "      <td>62</td>\n",
       "      <td>586</td>\n",
       "      <td>2007-10-5 08:15</td>\n",
       "      <td>853</td>\n",
       "      <td>24</td>\n",
       "      <td>1192</td>\n",
       "    </tr>\n",
       "  </tbody>\n",
       "</table>\n",
       "</div>"
      ],
      "text/plain": [
       "   ID        用户名  好友数   回帖数   主题数  在线时间              注册时间    积分   威望    水滴\n",
       "0   1      admin    0    38    23   152  2013-10-23 22:34   158    0   273\n",
       "0   3  shiruisbr    0   313    19   102  2014-11-12 15:15   135    0    26\n",
       "0   4    dove188   18  3080  1009   611   2007-9-15 21:02  1550  104   853\n",
       "0   7       plan    2  1002    94   278   2007-9-17 15:32   733   65    99\n",
       "0   8      zhd32    3  1407    62   586   2007-10-5 08:15   853   24  1192"
      ]
     },
     "execution_count": 12,
     "metadata": {},
     "output_type": "execute_result"
    }
   ],
   "source": [
    "df_person_info.head()"
   ]
  },
  {
   "cell_type": "markdown",
   "metadata": {},
   "source": [
    "### 发帖最多的ID"
   ]
  },
  {
   "cell_type": "code",
   "execution_count": 9,
   "metadata": {
    "collapsed": false
   },
   "outputs": [
    {
     "data": {
      "text/html": [
       "<div>\n",
       "<table border=\"1\" class=\"dataframe\">\n",
       "  <thead>\n",
       "    <tr style=\"text-align: right;\">\n",
       "      <th></th>\n",
       "      <th>ID</th>\n",
       "      <th>用户名</th>\n",
       "      <th>好友数</th>\n",
       "      <th>回帖数</th>\n",
       "      <th>主题数</th>\n",
       "      <th>在线时间</th>\n",
       "      <th>注册时间</th>\n",
       "      <th>积分</th>\n",
       "      <th>威望</th>\n",
       "      <th>水滴</th>\n",
       "    </tr>\n",
       "  </thead>\n",
       "  <tbody>\n",
       "    <tr>\n",
       "      <th>0</th>\n",
       "      <td>180996</td>\n",
       "      <td>Nevergone</td>\n",
       "      <td>59</td>\n",
       "      <td>184755</td>\n",
       "      <td>398</td>\n",
       "      <td>6947</td>\n",
       "      <td>2015-4-7 23:30</td>\n",
       "      <td>27172</td>\n",
       "      <td>342</td>\n",
       "      <td>15621</td>\n",
       "    </tr>\n",
       "    <tr>\n",
       "      <th>0</th>\n",
       "      <td>149144</td>\n",
       "      <td>勤奋的小逗比</td>\n",
       "      <td>212</td>\n",
       "      <td>182978</td>\n",
       "      <td>708</td>\n",
       "      <td>10751</td>\n",
       "      <td>2014-4-8 13:11</td>\n",
       "      <td>33095</td>\n",
       "      <td>795</td>\n",
       "      <td>29815</td>\n",
       "    </tr>\n",
       "    <tr>\n",
       "      <th>0</th>\n",
       "      <td>54335</td>\n",
       "      <td>黑焰</td>\n",
       "      <td>261</td>\n",
       "      <td>151045</td>\n",
       "      <td>2723</td>\n",
       "      <td>19456</td>\n",
       "      <td>2010-1-6 19:03</td>\n",
       "      <td>35454</td>\n",
       "      <td>127</td>\n",
       "      <td>4392</td>\n",
       "    </tr>\n",
       "    <tr>\n",
       "      <th>0</th>\n",
       "      <td>19933</td>\n",
       "      <td>yagami</td>\n",
       "      <td>179</td>\n",
       "      <td>142142</td>\n",
       "      <td>265</td>\n",
       "      <td>16485</td>\n",
       "      <td>2008-9-8 18:39</td>\n",
       "      <td>31476</td>\n",
       "      <td>150</td>\n",
       "      <td>558</td>\n",
       "    </tr>\n",
       "    <tr>\n",
       "      <th>0</th>\n",
       "      <td>25349</td>\n",
       "      <td>enboling</td>\n",
       "      <td>121</td>\n",
       "      <td>134412</td>\n",
       "      <td>60</td>\n",
       "      <td>49426</td>\n",
       "      <td>2008-10-20 23:05</td>\n",
       "      <td>63413</td>\n",
       "      <td>108</td>\n",
       "      <td>4303</td>\n",
       "    </tr>\n",
       "    <tr>\n",
       "      <th>0</th>\n",
       "      <td>56230</td>\n",
       "      <td>激情之焰</td>\n",
       "      <td>360</td>\n",
       "      <td>118505</td>\n",
       "      <td>1160</td>\n",
       "      <td>21363</td>\n",
       "      <td>2010-3-13 17:04</td>\n",
       "      <td>34519</td>\n",
       "      <td>238</td>\n",
       "      <td>549</td>\n",
       "    </tr>\n",
       "    <tr>\n",
       "      <th>0</th>\n",
       "      <td>33058</td>\n",
       "      <td>zengxutong</td>\n",
       "      <td>300</td>\n",
       "      <td>110836</td>\n",
       "      <td>1001</td>\n",
       "      <td>30147</td>\n",
       "      <td>2009-2-25 17:15</td>\n",
       "      <td>42510</td>\n",
       "      <td>236</td>\n",
       "      <td>14459</td>\n",
       "    </tr>\n",
       "    <tr>\n",
       "      <th>0</th>\n",
       "      <td>45089</td>\n",
       "      <td>北极狐</td>\n",
       "      <td>263</td>\n",
       "      <td>102120</td>\n",
       "      <td>790</td>\n",
       "      <td>14707</td>\n",
       "      <td>2009-8-14 13:20</td>\n",
       "      <td>25643</td>\n",
       "      <td>129</td>\n",
       "      <td>329</td>\n",
       "    </tr>\n",
       "    <tr>\n",
       "      <th>0</th>\n",
       "      <td>112214</td>\n",
       "      <td>_小北_</td>\n",
       "      <td>100</td>\n",
       "      <td>100029</td>\n",
       "      <td>201</td>\n",
       "      <td>10474</td>\n",
       "      <td>2011-12-7 22:59</td>\n",
       "      <td>21777</td>\n",
       "      <td>256</td>\n",
       "      <td>19348</td>\n",
       "    </tr>\n",
       "    <tr>\n",
       "      <th>0</th>\n",
       "      <td>182584</td>\n",
       "      <td>梦想导师</td>\n",
       "      <td>4</td>\n",
       "      <td>99379</td>\n",
       "      <td>71</td>\n",
       "      <td>4080</td>\n",
       "      <td>2015-5-28 00:25</td>\n",
       "      <td>14245</td>\n",
       "      <td>44</td>\n",
       "      <td>64183</td>\n",
       "    </tr>\n",
       "  </tbody>\n",
       "</table>\n",
       "</div>"
      ],
      "text/plain": [
       "       ID         用户名  好友数     回帖数   主题数   在线时间              注册时间     积分   威望  \\\n",
       "0  180996   Nevergone   59  184755   398   6947    2015-4-7 23:30  27172  342   \n",
       "0  149144      勤奋的小逗比  212  182978   708  10751    2014-4-8 13:11  33095  795   \n",
       "0   54335          黑焰  261  151045  2723  19456    2010-1-6 19:03  35454  127   \n",
       "0   19933      yagami  179  142142   265  16485    2008-9-8 18:39  31476  150   \n",
       "0   25349    enboling  121  134412    60  49426  2008-10-20 23:05  63413  108   \n",
       "0   56230        激情之焰  360  118505  1160  21363   2010-3-13 17:04  34519  238   \n",
       "0   33058  zengxutong  300  110836  1001  30147   2009-2-25 17:15  42510  236   \n",
       "0   45089         北极狐  263  102120   790  14707   2009-8-14 13:20  25643  129   \n",
       "0  112214        _小北_  100  100029   201  10474   2011-12-7 22:59  21777  256   \n",
       "0  182584        梦想导师    4   99379    71   4080   2015-5-28 00:25  14245   44   \n",
       "\n",
       "      水滴  \n",
       "0  15621  \n",
       "0  29815  \n",
       "0   4392  \n",
       "0    558  \n",
       "0   4303  \n",
       "0    549  \n",
       "0  14459  \n",
       "0    329  \n",
       "0  19348  \n",
       "0  64183  "
      ]
     },
     "execution_count": 9,
     "metadata": {},
     "output_type": "execute_result"
    }
   ],
   "source": [
    "df_person_info.sort_values(by='回帖数', ascending=False)[:10]"
   ]
  },
  {
   "cell_type": "markdown",
   "metadata": {},
   "source": [
    "### 在线时间最长的水人（我终于上榜了一次）"
   ]
  },
  {
   "cell_type": "code",
   "execution_count": 10,
   "metadata": {
    "collapsed": false
   },
   "outputs": [
    {
     "data": {
      "text/html": [
       "<div>\n",
       "<table border=\"1\" class=\"dataframe\">\n",
       "  <thead>\n",
       "    <tr style=\"text-align: right;\">\n",
       "      <th></th>\n",
       "      <th>ID</th>\n",
       "      <th>用户名</th>\n",
       "      <th>好友数</th>\n",
       "      <th>回帖数</th>\n",
       "      <th>主题数</th>\n",
       "      <th>在线时间</th>\n",
       "      <th>注册时间</th>\n",
       "      <th>积分</th>\n",
       "      <th>威望</th>\n",
       "      <th>水滴</th>\n",
       "    </tr>\n",
       "  </thead>\n",
       "  <tbody>\n",
       "    <tr>\n",
       "      <th>0</th>\n",
       "      <td>25349</td>\n",
       "      <td>enboling</td>\n",
       "      <td>121</td>\n",
       "      <td>134412</td>\n",
       "      <td>60</td>\n",
       "      <td>49426</td>\n",
       "      <td>2008-10-20 23:05</td>\n",
       "      <td>63413</td>\n",
       "      <td>108</td>\n",
       "      <td>4303</td>\n",
       "    </tr>\n",
       "    <tr>\n",
       "      <th>0</th>\n",
       "      <td>64231</td>\n",
       "      <td>氼不</td>\n",
       "      <td>2</td>\n",
       "      <td>790</td>\n",
       "      <td>1</td>\n",
       "      <td>35682</td>\n",
       "      <td>2010-8-3 13:00</td>\n",
       "      <td>35757</td>\n",
       "      <td>2</td>\n",
       "      <td>377</td>\n",
       "    </tr>\n",
       "    <tr>\n",
       "      <th>0</th>\n",
       "      <td>64523</td>\n",
       "      <td>无镞之箭</td>\n",
       "      <td>444</td>\n",
       "      <td>80937</td>\n",
       "      <td>3546</td>\n",
       "      <td>33712</td>\n",
       "      <td>2010-8-16 03:22</td>\n",
       "      <td>43427</td>\n",
       "      <td>254</td>\n",
       "      <td>10906</td>\n",
       "    </tr>\n",
       "    <tr>\n",
       "      <th>0</th>\n",
       "      <td>56059</td>\n",
       "      <td>everlastingm</td>\n",
       "      <td>84</td>\n",
       "      <td>12715</td>\n",
       "      <td>183</td>\n",
       "      <td>30501</td>\n",
       "      <td>2010-3-11 22:55</td>\n",
       "      <td>31826</td>\n",
       "      <td>7</td>\n",
       "      <td>10509</td>\n",
       "    </tr>\n",
       "    <tr>\n",
       "      <th>0</th>\n",
       "      <td>33058</td>\n",
       "      <td>zengxutong</td>\n",
       "      <td>300</td>\n",
       "      <td>110836</td>\n",
       "      <td>1001</td>\n",
       "      <td>30147</td>\n",
       "      <td>2009-2-25 17:15</td>\n",
       "      <td>42510</td>\n",
       "      <td>236</td>\n",
       "      <td>14459</td>\n",
       "    </tr>\n",
       "    <tr>\n",
       "      <th>0</th>\n",
       "      <td>29604</td>\n",
       "      <td>hwh152576450</td>\n",
       "      <td>29</td>\n",
       "      <td>13307</td>\n",
       "      <td>86</td>\n",
       "      <td>28307</td>\n",
       "      <td>2008-12-7 12:43</td>\n",
       "      <td>30086</td>\n",
       "      <td>88</td>\n",
       "      <td>1776</td>\n",
       "    </tr>\n",
       "    <tr>\n",
       "      <th>0</th>\n",
       "      <td>25818</td>\n",
       "      <td>381373244</td>\n",
       "      <td>223</td>\n",
       "      <td>74109</td>\n",
       "      <td>554</td>\n",
       "      <td>23025</td>\n",
       "      <td>2008-10-25 12:30</td>\n",
       "      <td>31211</td>\n",
       "      <td>144</td>\n",
       "      <td>706</td>\n",
       "    </tr>\n",
       "    <tr>\n",
       "      <th>0</th>\n",
       "      <td>116161</td>\n",
       "      <td>windigo</td>\n",
       "      <td>69</td>\n",
       "      <td>61585</td>\n",
       "      <td>215</td>\n",
       "      <td>22820</td>\n",
       "      <td>2012-3-27 14:11</td>\n",
       "      <td>29625</td>\n",
       "      <td>126</td>\n",
       "      <td>67450</td>\n",
       "    </tr>\n",
       "    <tr>\n",
       "      <th>0</th>\n",
       "      <td>14659</td>\n",
       "      <td>disillusion</td>\n",
       "      <td>49</td>\n",
       "      <td>9414</td>\n",
       "      <td>97</td>\n",
       "      <td>22273</td>\n",
       "      <td>2008-6-5 21:04</td>\n",
       "      <td>23439</td>\n",
       "      <td>43</td>\n",
       "      <td>312</td>\n",
       "    </tr>\n",
       "    <tr>\n",
       "      <th>0</th>\n",
       "      <td>56230</td>\n",
       "      <td>激情之焰</td>\n",
       "      <td>360</td>\n",
       "      <td>118505</td>\n",
       "      <td>1160</td>\n",
       "      <td>21363</td>\n",
       "      <td>2010-3-13 17:04</td>\n",
       "      <td>34519</td>\n",
       "      <td>238</td>\n",
       "      <td>549</td>\n",
       "    </tr>\n",
       "  </tbody>\n",
       "</table>\n",
       "</div>"
      ],
      "text/plain": [
       "       ID           用户名  好友数     回帖数   主题数   在线时间              注册时间     积分  \\\n",
       "0   25349      enboling  121  134412    60  49426  2008-10-20 23:05  63413   \n",
       "0   64231            氼不    2     790     1  35682    2010-8-3 13:00  35757   \n",
       "0   64523          无镞之箭  444   80937  3546  33712   2010-8-16 03:22  43427   \n",
       "0   56059  everlastingm   84   12715   183  30501   2010-3-11 22:55  31826   \n",
       "0   33058    zengxutong  300  110836  1001  30147   2009-2-25 17:15  42510   \n",
       "0   29604  hwh152576450   29   13307    86  28307   2008-12-7 12:43  30086   \n",
       "0   25818     381373244  223   74109   554  23025  2008-10-25 12:30  31211   \n",
       "0  116161       windigo   69   61585   215  22820   2012-3-27 14:11  29625   \n",
       "0   14659   disillusion   49    9414    97  22273    2008-6-5 21:04  23439   \n",
       "0   56230          激情之焰  360  118505  1160  21363   2010-3-13 17:04  34519   \n",
       "\n",
       "    威望     水滴  \n",
       "0  108   4303  \n",
       "0    2    377  \n",
       "0  254  10906  \n",
       "0    7  10509  \n",
       "0  236  14459  \n",
       "0   88   1776  \n",
       "0  144    706  \n",
       "0  126  67450  \n",
       "0   43    312  \n",
       "0  238    549  "
      ]
     },
     "execution_count": 10,
     "metadata": {},
     "output_type": "execute_result"
    }
   ],
   "source": [
    "df_person_info.sort_values(by='在线时间', ascending=False)[:10]"
   ]
  },
  {
   "cell_type": "markdown",
   "metadata": {},
   "source": [
    "### 发帖、回帖最多的十个板块"
   ]
  },
  {
   "cell_type": "code",
   "execution_count": 21,
   "metadata": {
    "collapsed": false
   },
   "outputs": [
    {
     "data": {
      "text/plain": [
       "<matplotlib.legend.Legend at 0x1cfd13fa828>"
      ]
     },
     "execution_count": 21,
     "metadata": {},
     "output_type": "execute_result"
    },
    {
     "data": {
      "image/png": "[encoded data removed]",
      "text/plain": [
       "<matplotlib.figure.Figure at 0x1cfd14aee80>"
      ]
     },
     "metadata": {},
     "output_type": "display_data"
    }
   ],
   "source": [
    "df_all_posts['板块'].value_counts()[:10].plot(kind='pie', figsize=(6, 6), autopct=\"%.1f\") \\\n",
    "    .legend(loc='center left', bbox_to_anchor=(1.1, 0.5))"
   ]
  },
  {
   "cell_type": "markdown",
   "metadata": {},
   "source": [
    "### 回复最多的帖子"
   ]
  },
  {
   "cell_type": "code",
   "execution_count": 27,
   "metadata": {
    "collapsed": false
   },
   "outputs": [
    {
     "data": {
      "text/html": [
       "<div>\n",
       "<table border=\"1\" class=\"dataframe\">\n",
       "  <thead>\n",
       "    <tr style=\"text-align: right;\">\n",
       "      <th></th>\n",
       "      <th>标题</th>\n",
       "      <th>回复数</th>\n",
       "    </tr>\n",
       "  </thead>\n",
       "  <tbody>\n",
       "    <tr>\n",
       "      <th>0</th>\n",
       "      <td>【八方贺畔】清水河畔8周年抢楼帖【万层大楼拔地起】</td>\n",
       "      <td>102057</td>\n",
       "    </tr>\n",
       "    <tr>\n",
       "      <th>0</th>\n",
       "      <td>清水河畔官方大红3号楼 【请遵守版规】</td>\n",
       "      <td>100152</td>\n",
       "    </tr>\n",
       "    <tr>\n",
       "      <th>0</th>\n",
       "      <td>清水河畔官方大红1号楼 【请遵守版规】</td>\n",
       "      <td>100105</td>\n",
       "    </tr>\n",
       "    <tr>\n",
       "      <th>0</th>\n",
       "      <td>【河畔三周年庆】抢水——自助福利楼（10W以后锁定并更换至2号楼）</td>\n",
       "      <td>100066</td>\n",
       "    </tr>\n",
       "    <tr>\n",
       "      <th>0</th>\n",
       "      <td>清水河畔官方大红4号楼 【请遵守版规】</td>\n",
       "      <td>100018</td>\n",
       "    </tr>\n",
       "    <tr>\n",
       "      <th>0</th>\n",
       "      <td>【五动青春】清水河畔五周年庆典水区活动专场 抢水楼（自助领奖）②号楼</td>\n",
       "      <td>100001</td>\n",
       "    </tr>\n",
       "    <tr>\n",
       "      <th>0</th>\n",
       "      <td>“五动青春”清水河畔五周年庆典水区活动专场 抢水楼（自助领奖）</td>\n",
       "      <td>100000</td>\n",
       "    </tr>\n",
       "    <tr>\n",
       "      <th>0</th>\n",
       "      <td>清水河畔官方大红2号楼 【请遵守版规】</td>\n",
       "      <td>100000</td>\n",
       "    </tr>\n",
       "    <tr>\n",
       "      <th>0</th>\n",
       "      <td>清水河畔官方大红8号楼【请遵守版规】</td>\n",
       "      <td>99999</td>\n",
       "    </tr>\n",
       "    <tr>\n",
       "      <th>0</th>\n",
       "      <td>元旦抢楼贴</td>\n",
       "      <td>99995</td>\n",
       "    </tr>\n",
       "  </tbody>\n",
       "</table>\n",
       "</div>"
      ],
      "text/plain": [
       "                                   标题     回复数\n",
       "0           【八方贺畔】清水河畔8周年抢楼帖【万层大楼拔地起】  102057\n",
       "0                 清水河畔官方大红3号楼 【请遵守版规】  100152\n",
       "0                 清水河畔官方大红1号楼 【请遵守版规】  100105\n",
       "0   【河畔三周年庆】抢水——自助福利楼（10W以后锁定并更换至2号楼）  100066\n",
       "0                 清水河畔官方大红4号楼 【请遵守版规】  100018\n",
       "0  【五动青春】清水河畔五周年庆典水区活动专场 抢水楼（自助领奖）②号楼  100001\n",
       "0     “五动青春”清水河畔五周年庆典水区活动专场 抢水楼（自助领奖）  100000\n",
       "0                 清水河畔官方大红2号楼 【请遵守版规】  100000\n",
       "0                  清水河畔官方大红8号楼【请遵守版规】   99999\n",
       "0                               元旦抢楼贴   99995"
      ]
     },
     "execution_count": 27,
     "metadata": {},
     "output_type": "execute_result"
    }
   ],
   "source": [
    "df_all_posts.sort_values(by='回复数', ascending=False)[:10][['标题','回复数']]"
   ]
  },
  {
   "cell_type": "markdown",
   "metadata": {},
   "source": [
    "### 非水区查看最多的帖子"
   ]
  },
  {
   "cell_type": "code",
   "execution_count": 28,
   "metadata": {
    "collapsed": false
   },
   "outputs": [
    {
     "data": {
      "text/html": [
       "<div>\n",
       "<table border=\"1\" class=\"dataframe\">\n",
       "  <thead>\n",
       "    <tr style=\"text-align: right;\">\n",
       "      <th></th>\n",
       "      <th>标题</th>\n",
       "      <th>查看数</th>\n",
       "    </tr>\n",
       "  </thead>\n",
       "  <tbody>\n",
       "    <tr>\n",
       "      <th>0</th>\n",
       "      <td>乡村岁月</td>\n",
       "      <td>542535</td>\n",
       "    </tr>\n",
       "    <tr>\n",
       "      <th>0</th>\n",
       "      <td>【全攻略】【如何不绑定手机办理宽带】</td>\n",
       "      <td>321692</td>\n",
       "    </tr>\n",
       "    <tr>\n",
       "      <th>0</th>\n",
       "      <td>”肆水年华“清水河畔四周年庆典水区活动专场 抢水楼（自助领奖）</td>\n",
       "      <td>268949</td>\n",
       "    </tr>\n",
       "    <tr>\n",
       "      <th>0</th>\n",
       "      <td>“五动青春”清水河畔五周年庆典水区活动专场 抢水楼（自助领奖）</td>\n",
       "      <td>255366</td>\n",
       "    </tr>\n",
       "    <tr>\n",
       "      <th>0</th>\n",
       "      <td>【五动青春】清水河畔五周年庆典水区活动专场 抢水楼（自助领奖）②号楼</td>\n",
       "      <td>250782</td>\n",
       "    </tr>\n",
       "    <tr>\n",
       "      <th>0</th>\n",
       "      <td>国庆节散水楼（请自助领奖）请勿纯表情纯水</td>\n",
       "      <td>246554</td>\n",
       "    </tr>\n",
       "    <tr>\n",
       "      <th>0</th>\n",
       "      <td>元旦抢楼贴</td>\n",
       "      <td>243159</td>\n",
       "    </tr>\n",
       "    <tr>\n",
       "      <th>0</th>\n",
       "      <td>【河畔三周年庆】抢水——自助福利楼（10W以后锁定并更换至2号楼）</td>\n",
       "      <td>241877</td>\n",
       "    </tr>\n",
       "    <tr>\n",
       "      <th>0</th>\n",
       "      <td>迎中秋国庆，散水活动~</td>\n",
       "      <td>240617</td>\n",
       "    </tr>\n",
       "    <tr>\n",
       "      <th>0</th>\n",
       "      <td>清水河畔论坛新手导航Ver1.0</td>\n",
       "      <td>237322</td>\n",
       "    </tr>\n",
       "  </tbody>\n",
       "</table>\n",
       "</div>"
      ],
      "text/plain": [
       "                                   标题     查看数\n",
       "0                                乡村岁月  542535\n",
       "0                  【全攻略】【如何不绑定手机办理宽带】  321692\n",
       "0     ”肆水年华“清水河畔四周年庆典水区活动专场 抢水楼（自助领奖）  268949\n",
       "0     “五动青春”清水河畔五周年庆典水区活动专场 抢水楼（自助领奖）  255366\n",
       "0  【五动青春】清水河畔五周年庆典水区活动专场 抢水楼（自助领奖）②号楼  250782\n",
       "0                国庆节散水楼（请自助领奖）请勿纯表情纯水  246554\n",
       "0                               元旦抢楼贴  243159\n",
       "0   【河畔三周年庆】抢水——自助福利楼（10W以后锁定并更换至2号楼）  241877\n",
       "0                         迎中秋国庆，散水活动~  240617\n",
       "0                    清水河畔论坛新手导航Ver1.0  237322"
      ]
     },
     "execution_count": 28,
     "metadata": {},
     "output_type": "execute_result"
    }
   ],
   "source": [
    "df_all_posts.sort_values(by='查看数', ascending=False)[:10][['标题','查看数']]"
   ]
  }
 ],
 "metadata": {
  "anaconda-cloud": {},
  "kernelspec": {
   "display_name": "Python [default]",
   "language": "python",
   "name": "python3"
  },
  "language_info": {
   "codemirror_mode": {
    "name": "ipython",
    "version": 3
   },
   "file_extension": ".py",
   "mimetype": "text/x-python",
   "name": "python",
   "nbconvert_exporter": "python",
   "pygments_lexer": "ipython3",
   "version": "3.5.2"
  }
 },
 "nbformat": 4,
 "nbformat_minor": 1
}
